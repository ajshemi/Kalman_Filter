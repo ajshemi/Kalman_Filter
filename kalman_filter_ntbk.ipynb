{
 "cells": [
  {
   "cell_type": "code",
   "execution_count": 1,
   "metadata": {},
   "outputs": [],
   "source": [
    "from kalman_matrix import StateKalmanFilter\n",
    "from scipy import poly1d\n",
    "import numpy as np\n",
    "import pandas as pd\n",
    "import matplotlib.pyplot as plt"
   ]
  },
  {
   "cell_type": "markdown",
   "metadata": {},
   "source": [
    "# Toy example: moving object\n",
    "\n",
    "Imagine we have a moving object whose motion we are tracking with a camera/radar. The state of the object consists of its position and velocity. We know that we have the relationship $x_t = x_{t-1} + v_{t-1}\\delta t - \\frac{1}{2} a (\\delta t)^2$, where $\\delta t$ is the time (in seconds) elapsed between $t-1$ and $t$, and $a$ acceleration. Meanwhile, our camera/rader can tell us the position,velocity of the object every second, but we know from the manufacturer that the camera/radar accuracy, translated into the position,velocity of the object, implies variance in the position estimate of about 25 meters, variance in the velocity estimate of about 6m/sec.\n",
    "\n",
    "In order to use a Kalman filter, we need to give it transition and observation matrices, transition and observation covariance matrices, and the initial state. The state of the system is (position, velocity), so it follows the transition matrix\n",
    "$$ \\left( \\begin{array}{cc}\n",
    "1 & \\delta t \\\\\n",
    "0 & 1 \\end{array} \\right) $$\n",
    "\n",
    "with offset $(-(\\delta t)^2 \\cdot a/2, -\\delta t\\cdot a)$. The observation matrix just extracts the position coordinate, (1  0), since we are measuring position and also measuring velocity, then observation matrix is $[[1,0], [0,1]]$. For the inital state, let's feed our model something bogus like (4000, 280) and see how our system evolves."
   ]
  },
  {
   "cell_type": "markdown",
   "metadata": {},
   "source": [
    "Observations: \n",
    "Position(Pos) & Velocity(Vel):\n",
    "\n",
    "| Pos (m)  | vel (m/s)|\n",
    "|------|-----|\n",
    "| 4000 | 280 |\n",
    "| 4260 | 282 |\n",
    "| 4550 | 284 |\n",
    "| 4860 | 286 |\n",
    "| 5100 | 290 |\n",
    "\n",
    "Process Errors in Process covariance matrix\n",
    "$\\delta P_x$ =20m\n",
    "$\\delta P_{v_x}$=5m/sec\n",
    "\n",
    "Observations Errors\n",
    "$\\delta X$ =25m\n",
    "$\\delta v_x$=6m/sec\n",
    "\n",
    "Initials conditions:\n",
    "$a_x$=2m/sec2\n",
    "$\\delta t$=1sec\n",
    "$v_x$=280m/sec\n",
    "$X$=4000m\n"
   ]
  },
  {
   "cell_type": "code",
   "execution_count": 2,
   "metadata": {},
   "outputs": [
    {
     "data": {
      "text/plain": [
       "array([[4000,  280],\n",
       "       [4260,  282],\n",
       "       [4550,  285],\n",
       "       [4860,  286],\n",
       "       [5110,  290]])"
      ]
     },
     "execution_count": 2,
     "metadata": {},
     "output_type": "execute_result"
    }
   ],
   "source": [
    "a=np.array([4000,4260,4550,4860,5110])\n",
    "b=np.array([280,282,285,286,290])\n",
    "np.vstack((a,b)).T"
   ]
  },
  {
   "cell_type": "code",
   "execution_count": 3,
   "metadata": {},
   "outputs": [],
   "source": [
    "data=np.vstack((a,b)).T"
   ]
  },
  {
   "cell_type": "code",
   "execution_count": 4,
   "metadata": {},
   "outputs": [
    {
     "data": {
      "text/plain": [
       "array([4000,  280])"
      ]
     },
     "execution_count": 4,
     "metadata": {},
     "output_type": "execute_result"
    }
   ],
   "source": [
    "# Initial or original state estimate\n",
    "X0=data[0]\n",
    "X0"
   ]
  },
  {
   "cell_type": "code",
   "execution_count": 5,
   "metadata": {},
   "outputs": [
    {
     "data": {
      "text/plain": [
       "array([[1, 1],\n",
       "       [0, 1]])"
      ]
     },
     "execution_count": 5,
     "metadata": {},
     "output_type": "execute_result"
    }
   ],
   "source": [
    "#transition matrices\n",
    "dt=1\n",
    "A=np.array([1,dt,0,1]).reshape(2,2)\n",
    "A"
   ]
  },
  {
   "cell_type": "code",
   "execution_count": 6,
   "metadata": {},
   "outputs": [
    {
     "data": {
      "text/plain": [
       "array([0.5, 1. ])"
      ]
     },
     "execution_count": 6,
     "metadata": {},
     "output_type": "execute_result"
    }
   ],
   "source": [
    "#transition offsets\n",
    "B = np.array([0.5*dt**2,1]) \n",
    "B"
   ]
  },
  {
   "cell_type": "code",
   "execution_count": 7,
   "metadata": {},
   "outputs": [
    {
     "data": {
      "text/plain": [
       "array([[1, 0],\n",
       "       [0, 1]])"
      ]
     },
     "execution_count": 7,
     "metadata": {},
     "output_type": "execute_result"
    }
   ],
   "source": [
    "#observation matrices\n",
    "C = np.array([1,0,0,1]).reshape(2,2)\n",
    "C"
   ]
  },
  {
   "cell_type": "code",
   "execution_count": 8,
   "metadata": {},
   "outputs": [
    {
     "data": {
      "text/plain": [
       "array([[400,   0],\n",
       "       [  0,  25]])"
      ]
     },
     "execution_count": 8,
     "metadata": {},
     "output_type": "execute_result"
    }
   ],
   "source": [
    "#error in process estimates\n",
    "dx=20\n",
    "dvx=5\n",
    "P=np.array([dx**2,dx*dvx,dx*dvx,dvx**2]).reshape(2,2)\n",
    "P=np.diag(np.diag(P))\n",
    "P"
   ]
  },
  {
   "cell_type": "code",
   "execution_count": 9,
   "metadata": {},
   "outputs": [],
   "source": [
    "data=data[1:]"
   ]
  },
  {
   "cell_type": "code",
   "execution_count": 10,
   "metadata": {},
   "outputs": [
    {
     "data": {
      "text/plain": [
       "(4, 2)"
      ]
     },
     "execution_count": 10,
     "metadata": {},
     "output_type": "execute_result"
    }
   ],
   "source": [
    "data.shape"
   ]
  },
  {
   "cell_type": "code",
   "execution_count": 11,
   "metadata": {},
   "outputs": [
    {
     "data": {
      "text/plain": [
       "array([2])"
      ]
     },
     "execution_count": 11,
     "metadata": {},
     "output_type": "execute_result"
    }
   ],
   "source": [
    "#control input\n",
    "ci=np.array([2])\n",
    "ci"
   ]
  },
  {
   "cell_type": "code",
   "execution_count": 12,
   "metadata": {},
   "outputs": [
    {
     "data": {
      "text/plain": [
       "array([[625,   0],\n",
       "       [  0,  36]])"
      ]
     },
     "execution_count": 12,
     "metadata": {},
     "output_type": "execute_result"
    }
   ],
   "source": [
    "#error in observation/measurements\n",
    "R=np.array([625,0,0,36]).reshape(2,2)\n",
    "R"
   ]
  },
  {
   "cell_type": "code",
   "execution_count": 13,
   "metadata": {},
   "outputs": [],
   "source": [
    "# Process noise covariance matrix #transition coveriance\n",
    "Q = 0  "
   ]
  },
  {
   "cell_type": "code",
   "execution_count": 14,
   "metadata": {},
   "outputs": [
    {
     "name": "stdout",
     "output_type": "stream",
     "text": [
      "[4281.  282.]\n",
      "[[425  25]\n",
      " [ 25  25]]\n",
      "[[0.4047619  1.        ]\n",
      " [1.         0.40983607]]\n",
      "[4272.5  282. ]\n",
      "[4555.5  284. ]\n",
      "[[267.73028884  14.75409836]\n",
      " [ 14.75409836  14.75409836]]\n",
      "[[0.29990053 1.        ]\n",
      " [1.         0.29069767]]\n",
      "[4553.85054707  284.29069767]\n",
      "[4839.14124475  286.29069767]\n",
      "[[197.90294898  10.46511628]\n",
      " [ 10.46511628  10.46511628]]\n",
      "[[0.24049367 1.        ]\n",
      " [1.         0.22522523]]\n",
      "[4844.15764332  286.22522523]\n",
      "[5131.38286854  288.22522523]\n",
      "[[158.41665089   8.10810811]\n",
      " [  8.10810811   8.10810811]]\n",
      "[[0.20221251 1.        ]\n",
      " [1.         0.18382353]]\n",
      "[5127.05898493  288.55147059]\n"
     ]
    }
   ],
   "source": [
    "# Initialise the Kalman Filter \n",
    "from kalman_matrix import StateKalmanFilter\n",
    "A = A  #transition matrix\n",
    "C = C  # Measurement/observation matrix\n",
    "B = B  # control input\n",
    "Q = 0  # Process noise covariance matrix\n",
    "R = R  # error in data measurement/observation\n",
    "x = X0  # Initial or original state estimate\n",
    "P = P  #error estimate, state covariance matrix\n",
    "ci=np.array([2]) #control imput\n",
    "current_pos=[]\n",
    "current_vel=[]\n",
    "predicted_pos=[]\n",
    "predicted_vel=[]\n",
    "kalman_filter = StateKalmanFilter(A, B, C, x, P, Q, R)\n",
    "for data in data:\n",
    "    kalman_filter.step(ci, data) #$ control_input, measurement\n",
    "    print(kalman_filter.predicted_state_estimate)\n",
    "    print(kalman_filter.predicted_prob_estimate)\n",
    "    print(kalman_filter.kalman_gain)\n",
    "    current_pos.append(kalman_filter.current_state()[0])\n",
    "    current_vel.append(kalman_filter.current_state()[1])\n",
    "    predicted_pos.append(kalman_filter.predicted_state_estimate[0])\n",
    "    predicted_vel.append(kalman_filter.predicted_state_estimate[1])\n",
    "    print(kalman_filter.current_state())\n",
    "    #print(kalman_filter.current_prob_estimate)\n",
    "    #print(kalman_filter.innovation)\n",
    "    #print(kalman_filter.innovation_covariance)"
   ]
  },
  {
   "cell_type": "code",
   "execution_count": 15,
   "metadata": {},
   "outputs": [
    {
     "data": {
      "text/plain": [
       "Text(0, 0.5, 'position (m)')"
      ]
     },
     "execution_count": 15,
     "metadata": {},
     "output_type": "execute_result"
    },
    {
     "data": {
      "image/png": "[encoded data removed]",
      "text/plain": [
       "<Figure size 1152x648 with 1 Axes>"
      ]
     },
     "metadata": {
      "needs_background": "light"
     },
     "output_type": "display_data"
    }
   ],
   "source": [
    "summary_pos=pd.DataFrame()\n",
    "summary_pos['current_pos']=current_pos\n",
    "summary_pos['predicted_pos']=predicted_pos\n",
    "summary_pos['measured_pos']=a[1:]\n",
    "summary_pos.plot.line(figsize=(16,9))\n",
    "plt.xlabel('time (s)')\n",
    "plt.ylabel('position (m)')"
   ]
  }
 ],
 "metadata": {
  "kernelspec": {
   "display_name": "Python 3",
   "language": "python",
   "name": "python3"
  },
  "language_info": {
   "codemirror_mode": {
    "name": "ipython",
    "version": 3
   },
   "file_extension": ".py",
   "mimetype": "text/x-python",
   "name": "python",
   "nbconvert_exporter": "python",
   "pygments_lexer": "ipython3",
   "version": "3.7.2"
  }
 },
 "nbformat": 4,
 "nbformat_minor": 2
}
